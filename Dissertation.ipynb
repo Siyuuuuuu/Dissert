{
  "nbformat": 4,
  "nbformat_minor": 0,
  "metadata": {
    "colab": {
      "name": "Dissertation.ipynb",
      "provenance": [],
      "collapsed_sections": [],
      "toc_visible": true,
      "authorship_tag": "ABX9TyMKaudOHHqPk+bXaLyfUYtV",
      "include_colab_link": true
    },
    "kernelspec": {
      "name": "python3",
      "display_name": "Python 3"
    },
    "language_info": {
      "name": "python"
    }
  },
  "cells": [
    {
      "cell_type": "markdown",
      "metadata": {
        "id": "view-in-github",
        "colab_type": "text"
      },
      "source": [
        "<a href=\"https://colab.research.google.com/github/Siyuuuuuu/Dissert/blob/main/Dissertation.ipynb\" target=\"_parent\"><img src=\"https://colab.research.google.com/assets/colab-badge.svg\" alt=\"Open In Colab\"/></a>"
      ]
    },
    {
      "cell_type": "code",
      "execution_count": null,
      "metadata": {
        "colab": {
          "base_uri": "https://localhost:8080/"
        },
        "id": "LratKvtD3tz5",
        "outputId": "063c9d0c-acab-42b5-da6e-cc6293e90e26"
      },
      "outputs": [
        {
          "output_type": "stream",
          "name": "stdout",
          "text": [
            "Looking in indexes: https://pypi.org/simple, https://us-python.pkg.dev/colab-wheels/public/simple/\n",
            "Requirement already satisfied: KTBoost in /usr/local/lib/python3.7/dist-packages (0.2.2)\n",
            "Requirement already satisfied: bottleneck in /usr/local/lib/python3.7/dist-packages (from KTBoost) (1.3.5)\n",
            "Requirement already satisfied: scikit-learn>=1.0.1 in /usr/local/lib/python3.7/dist-packages (from KTBoost) (1.0.2)\n",
            "Requirement already satisfied: matplotlib in /usr/local/lib/python3.7/dist-packages (from KTBoost) (3.2.2)\n",
            "Requirement already satisfied: numpy>=1.14.6 in /usr/local/lib/python3.7/dist-packages (from scikit-learn>=1.0.1->KTBoost) (1.21.6)\n",
            "Requirement already satisfied: joblib>=0.11 in /usr/local/lib/python3.7/dist-packages (from scikit-learn>=1.0.1->KTBoost) (1.1.0)\n",
            "Requirement already satisfied: threadpoolctl>=2.0.0 in /usr/local/lib/python3.7/dist-packages (from scikit-learn>=1.0.1->KTBoost) (3.1.0)\n",
            "Requirement already satisfied: scipy>=1.1.0 in /usr/local/lib/python3.7/dist-packages (from scikit-learn>=1.0.1->KTBoost) (1.7.3)\n",
            "Requirement already satisfied: python-dateutil>=2.1 in /usr/local/lib/python3.7/dist-packages (from matplotlib->KTBoost) (2.8.2)\n",
            "Requirement already satisfied: cycler>=0.10 in /usr/local/lib/python3.7/dist-packages (from matplotlib->KTBoost) (0.11.0)\n",
            "Requirement already satisfied: kiwisolver>=1.0.1 in /usr/local/lib/python3.7/dist-packages (from matplotlib->KTBoost) (1.4.3)\n",
            "Requirement already satisfied: pyparsing!=2.0.4,!=2.1.2,!=2.1.6,>=2.0.1 in /usr/local/lib/python3.7/dist-packages (from matplotlib->KTBoost) (3.0.9)\n",
            "Requirement already satisfied: typing-extensions in /usr/local/lib/python3.7/dist-packages (from kiwisolver>=1.0.1->matplotlib->KTBoost) (4.1.1)\n",
            "Requirement already satisfied: six>=1.5 in /usr/local/lib/python3.7/dist-packages (from python-dateutil>=2.1->matplotlib->KTBoost) (1.15.0)\n"
          ]
        }
      ],
      "source": [
        "pip install -U KTBoost"
      ]
    },
    {
      "cell_type": "code",
      "source": [
        "!git clone https://github.com/uoe-iaml/DL-S2-2022-CW2.git"
      ],
      "metadata": {
        "colab": {
          "base_uri": "https://localhost:8080/"
        },
        "id": "eLidw1k09EXo",
        "outputId": "779f9582-fec3-47a0-d32c-8a57593bced7"
      },
      "execution_count": null,
      "outputs": [
        {
          "output_type": "stream",
          "name": "stdout",
          "text": [
            "Cloning into 'DL-S2-2022-CW2'...\n",
            "remote: Enumerating objects: 29, done.\u001b[K\n",
            "remote: Counting objects: 100% (29/29), done.\u001b[K\n",
            "remote: Compressing objects: 100% (26/26), done.\u001b[K\n",
            "remote: Total 29 (delta 11), reused 0 (delta 0), pack-reused 0\u001b[K\n",
            "Unpacking objects: 100% (29/29), done.\n"
          ]
        }
      ]
    },
    {
      "cell_type": "code",
      "source": [
        "!git clone https://github.com/Siyuuuuuu/Dissertation.git"
      ],
      "metadata": {
        "colab": {
          "base_uri": "https://localhost:8080/"
        },
        "id": "dA1tYN-CCINN",
        "outputId": "3aee78ef-17c8-4e88-f696-c62d04a4c9df"
      },
      "execution_count": null,
      "outputs": [
        {
          "output_type": "stream",
          "name": "stdout",
          "text": [
            "Cloning into 'Dissertation'...\n",
            "fatal: could not read Username for 'https://github.com': No such device or address\n"
          ]
        }
      ]
    },
    {
      "cell_type": "code",
      "source": [
        "!git clone https://github.com/Siyuuuuuu/Dissertation.git"
      ],
      "metadata": {
        "colab": {
          "base_uri": "https://localhost:8080/"
        },
        "id": "kVeyT_o8CVk0",
        "outputId": "80624d50-7a58-47e3-f065-c242d9143a22"
      },
      "execution_count": null,
      "outputs": [
        {
          "output_type": "stream",
          "name": "stdout",
          "text": [
            "Cloning into 'Dissertation'...\n",
            "fatal: could not read Username for 'https://github.com': No such device or address\n"
          ]
        }
      ]
    },
    {
      "cell_type": "code",
      "source": [
        "!git clone https://github.com/Siyuuuuuu/Dissert.git"
      ],
      "metadata": {
        "colab": {
          "base_uri": "https://localhost:8080/"
        },
        "id": "LBFDaAW-E_lI",
        "outputId": "3f5dceae-9a69-4852-ea8d-e0a5dfe329ad"
      },
      "execution_count": null,
      "outputs": [
        {
          "output_type": "stream",
          "name": "stdout",
          "text": [
            "Cloning into 'Dissert'...\n",
            "remote: Enumerating objects: 9, done.\u001b[K\n",
            "remote: Counting objects: 100% (9/9), done.\u001b[K\n",
            "remote: Compressing objects: 100% (7/7), done.\u001b[K\n",
            "remote: Total 9 (delta 1), reused 0 (delta 0), pack-reused 0\u001b[K\n",
            "Unpacking objects: 100% (9/9), done.\n"
          ]
        }
      ]
    },
    {
      "cell_type": "code",
      "source": [
        "!git init\n",
        "!git add Dissertation.ipynb\n",
        "!git commit -m \"first commit\"\n",
        "!git branch -M main\n",
        "!git remote add origin https://github.com/Siyuuuuuu/Dissert.git\n",
        "!git push -u origin main"
      ],
      "metadata": {
        "colab": {
          "base_uri": "https://localhost:8080/"
        },
        "id": "6uOyNYhk9qja",
        "outputId": "0a5054a0-9f40-4c14-ce93-ae2e47d53275"
      },
      "execution_count": null,
      "outputs": [
        {
          "output_type": "stream",
          "name": "stdout",
          "text": [
            "Initialized empty Git repository in /content/.git/\n",
            "fatal: pathspec 'Dissertation.ipynb' did not match any files\n",
            "\n",
            "*** Please tell me who you are.\n",
            "\n",
            "Run\n",
            "\n",
            "  git config --global user.email \"you@example.com\"\n",
            "  git config --global user.name \"Your Name\"\n",
            "\n",
            "to set your account's default identity.\n",
            "Omit --global to set the identity only in this repository.\n",
            "\n",
            "fatal: unable to auto-detect email address (got 'root@8b1eee024bff.(none)')\n",
            "error: refname refs/heads/master not found\n",
            "fatal: Branch rename failed\n",
            "error: src refspec main does not match any.\n",
            "error: failed to push some refs to 'https://github.com/Siyuuuuuu/Dissert.git'\n"
          ]
        }
      ]
    },
    {
      "cell_type": "code",
      "source": [
        "! git config --global user.email \"s2263019@ed.ac.uk\"\n",
        "! git config --global user.name \"Siyu Ji\""
      ],
      "metadata": {
        "id": "c3QICvmPAplW"
      },
      "execution_count": null,
      "outputs": []
    },
    {
      "cell_type": "code",
      "source": [
        "!git remote add origin https://github.com/Siyuuuuuu/Dissertation.git\n",
        "!git branch -M main\n",
        "!git push -u origin main"
      ],
      "metadata": {
        "colab": {
          "base_uri": "https://localhost:8080/"
        },
        "id": "D57ik074-YLp",
        "outputId": "2a152a2b-76bd-4197-e4a1-2b609f8ffa32"
      },
      "execution_count": null,
      "outputs": [
        {
          "output_type": "stream",
          "name": "stdout",
          "text": [
            "fatal: remote origin already exists.\n",
            "error: refname refs/heads/master not found\n",
            "fatal: Branch rename failed\n",
            "error: src refspec main does not match any.\n",
            "error: failed to push some refs to 'https://github.com/Siyuuuuuu/Dissert.git'\n"
          ]
        }
      ]
    },
    {
      "cell_type": "markdown",
      "source": [
        "# Templete Dataset for Tobit/Other models"
      ],
      "metadata": {
        "id": "mfQsznzE2SWq"
      }
    },
    {
      "cell_type": "code",
      "source": [
        "pip install -U KTBoost"
      ],
      "metadata": {
        "colab": {
          "base_uri": "https://localhost:8080/"
        },
        "id": "JQ1ud_QR2v4z",
        "outputId": "7e216d66-d8c7-497c-fc9f-d3e645b631d6"
      },
      "execution_count": null,
      "outputs": [
        {
          "output_type": "stream",
          "name": "stdout",
          "text": [
            "Looking in indexes: https://pypi.org/simple, https://us-python.pkg.dev/colab-wheels/public/simple/\n",
            "Collecting KTBoost\n",
            "  Downloading KTBoost-0.2.2-py3-none-any.whl (59 kB)\n",
            "\u001b[K     |████████████████████████████████| 59 kB 3.0 MB/s \n",
            "\u001b[?25hCollecting bottleneck\n",
            "  Downloading Bottleneck-1.3.5-cp37-cp37m-manylinux_2_5_x86_64.manylinux1_x86_64.manylinux_2_17_x86_64.manylinux2014_x86_64.whl (355 kB)\n",
            "\u001b[K     |████████████████████████████████| 355 kB 10.4 MB/s \n",
            "\u001b[?25hRequirement already satisfied: scikit-learn>=1.0.1 in /usr/local/lib/python3.7/dist-packages (from KTBoost) (1.0.2)\n",
            "Requirement already satisfied: matplotlib in /usr/local/lib/python3.7/dist-packages (from KTBoost) (3.2.2)\n",
            "Requirement already satisfied: threadpoolctl>=2.0.0 in /usr/local/lib/python3.7/dist-packages (from scikit-learn>=1.0.1->KTBoost) (3.1.0)\n",
            "Requirement already satisfied: scipy>=1.1.0 in /usr/local/lib/python3.7/dist-packages (from scikit-learn>=1.0.1->KTBoost) (1.7.3)\n",
            "Requirement already satisfied: joblib>=0.11 in /usr/local/lib/python3.7/dist-packages (from scikit-learn>=1.0.1->KTBoost) (1.1.0)\n",
            "Requirement already satisfied: numpy>=1.14.6 in /usr/local/lib/python3.7/dist-packages (from scikit-learn>=1.0.1->KTBoost) (1.21.6)\n",
            "Requirement already satisfied: cycler>=0.10 in /usr/local/lib/python3.7/dist-packages (from matplotlib->KTBoost) (0.11.0)\n",
            "Requirement already satisfied: python-dateutil>=2.1 in /usr/local/lib/python3.7/dist-packages (from matplotlib->KTBoost) (2.8.2)\n",
            "Requirement already satisfied: kiwisolver>=1.0.1 in /usr/local/lib/python3.7/dist-packages (from matplotlib->KTBoost) (1.4.3)\n",
            "Requirement already satisfied: pyparsing!=2.0.4,!=2.1.2,!=2.1.6,>=2.0.1 in /usr/local/lib/python3.7/dist-packages (from matplotlib->KTBoost) (3.0.9)\n",
            "Requirement already satisfied: typing-extensions in /usr/local/lib/python3.7/dist-packages (from kiwisolver>=1.0.1->matplotlib->KTBoost) (4.1.1)\n",
            "Requirement already satisfied: six>=1.5 in /usr/local/lib/python3.7/dist-packages (from python-dateutil>=2.1->matplotlib->KTBoost) (1.15.0)\n",
            "Installing collected packages: bottleneck, KTBoost\n",
            "Successfully installed KTBoost-0.2.2 bottleneck-1.3.5\n"
          ]
        }
      ]
    },
    {
      "cell_type": "code",
      "source": [
        "import sklearn.datasets as datasets\n",
        "import numpy as np\n",
        "import KTBoost.KTBoost as KTBoost\n",
        "import random\n",
        "import matplotlib.pyplot as plt"
      ],
      "metadata": {
        "id": "BU4YenGT4MNN"
      },
      "execution_count": null,
      "outputs": []
    },
    {
      "cell_type": "code",
      "source": [
        "# simulate data\n",
        "random.seed(10)\n",
        "n = 1000\n",
        "X, lp = datasets.make_friedman3(n_samples=n)\n",
        "X_test, y_test = datasets.make_friedman3(n_samples=n)\n",
        "lp = lp*5+0.2\n",
        "y_test = y_test*5+0.2\n",
        "y=np.random.normal(loc=lp,scale=1)"
      ],
      "metadata": {
        "id": "RIKvcRyx2iKJ"
      },
      "execution_count": null,
      "outputs": []
    },
    {
      "cell_type": "code",
      "source": [
        "help(datasets.make_friedman3)"
      ],
      "metadata": {
        "colab": {
          "base_uri": "https://localhost:8080/"
        },
        "id": "tHoiGfLy3Jyu",
        "outputId": "d47d4a86-e120-4a0d-d111-622cf70522e4"
      },
      "execution_count": null,
      "outputs": [
        {
          "output_type": "stream",
          "name": "stdout",
          "text": [
            "Help on function make_friedman3 in module sklearn.datasets._samples_generator:\n",
            "\n",
            "make_friedman3(n_samples=100, *, noise=0.0, random_state=None)\n",
            "    Generate the \"Friedman #3\" regression problem.\n",
            "    \n",
            "    This dataset is described in Friedman [1] and Breiman [2].\n",
            "    \n",
            "    Inputs `X` are 4 independent features uniformly distributed on the\n",
            "    intervals::\n",
            "    \n",
            "        0 <= X[:, 0] <= 100,\n",
            "        40 * pi <= X[:, 1] <= 560 * pi,\n",
            "        0 <= X[:, 2] <= 1,\n",
            "        1 <= X[:, 3] <= 11.\n",
            "    \n",
            "    The output `y` is created according to the formula::\n",
            "    \n",
            "        y(X) = arctan((X[:, 1] * X[:, 2] - 1 / (X[:, 1] * X[:, 3])) / X[:, 0]) + noise * N(0, 1).\n",
            "    \n",
            "    Read more in the :ref:`User Guide <sample_generators>`.\n",
            "    \n",
            "    Parameters\n",
            "    ----------\n",
            "    n_samples : int, default=100\n",
            "        The number of samples.\n",
            "    \n",
            "    noise : float, default=0.0\n",
            "        The standard deviation of the gaussian noise applied to the output.\n",
            "    \n",
            "    random_state : int, RandomState instance or None, default=None\n",
            "        Determines random number generation for dataset noise. Pass an int\n",
            "        for reproducible output across multiple function calls.\n",
            "        See :term:`Glossary <random_state>`.\n",
            "    \n",
            "    Returns\n",
            "    -------\n",
            "    X : ndarray of shape (n_samples, 4)\n",
            "        The input samples.\n",
            "    \n",
            "    y : ndarray of shape (n_samples,)\n",
            "        The output values.\n",
            "    \n",
            "    References\n",
            "    ----------\n",
            "    .. [1] J. Friedman, \"Multivariate adaptive regression splines\", The Annals\n",
            "           of Statistics 19 (1), pages 1-67, 1991.\n",
            "    \n",
            "    .. [2] L. Breiman, \"Bagging predictors\", Machine Learning 24,\n",
            "           pages 123-140, 1996.\n",
            "\n"
          ]
        }
      ]
    },
    {
      "cell_type": "code",
      "source": [
        "# apply censoring\n",
        "yu=8\n",
        "yl=5\n",
        "y[y>=yu]=yu\n",
        "y[y<=yl]=yl\n",
        "\n",
        "# create binary variable 0 & 1 for training datasets\n",
        "y_binary_01 = np.ones(len(y))\n",
        "y_binary_01[y<yu] = 0\n",
        "\n",
        "# create binary variable -1 & 1\n",
        "y_binary_11 = np.ones(len(y))\n",
        "y_binary_11[y<yu] = -1\n",
        "\n",
        "# create binary variable 0 & 1 for testing datasets\n",
        "y_binary_tt01 = np.ones(len(y_test))\n",
        "y_binary_tt01[y_test<yu] = 0\n",
        "\n",
        "# create binary variable -1 & 1\n",
        "y_binary_tt11 = np.ones(len(y_test))\n",
        "y_binary_tt11[y_test<yu] = -1"
      ],
      "metadata": {
        "id": "e2MRfKX-2msH"
      },
      "execution_count": null,
      "outputs": []
    },
    {
      "cell_type": "code",
      "source": [
        "plt.hist(y)"
      ],
      "metadata": {
        "colab": {
          "base_uri": "https://localhost:8080/",
          "height": 319
        },
        "id": "kuL6ooNY5LfB",
        "outputId": "594fc09f-2057-42aa-a0cf-7a1b42ccd9e2"
      },
      "execution_count": null,
      "outputs": [
        {
          "output_type": "execute_result",
          "data": {
            "text/plain": [
              "(array([168.,  25.,  39.,  46.,  61.,  59.,  69.,  81.,  80., 372.]),\n",
              " array([5. , 5.3, 5.6, 5.9, 6.2, 6.5, 6.8, 7.1, 7.4, 7.7, 8. ]),\n",
              " <a list of 10 Patch objects>)"
            ]
          },
          "metadata": {},
          "execution_count": 8
        },
        {
          "output_type": "display_data",
          "data": {
            "text/plain": [
              "<Figure size 432x288 with 1 Axes>"
            ],
            "image/png": "[encoded data removed]"
          },
          "metadata": {
            "needs_background": "light"
          }
        }
      ]
    },
    {
      "cell_type": "code",
      "source": [
        "plt.hist(y_test)"
      ],
      "metadata": {
        "colab": {
          "base_uri": "https://localhost:8080/",
          "height": 354
        },
        "id": "_ppqus_O6erY",
        "outputId": "88dbc4e5-f9b6-42ee-81d5-106306bbfdc6"
      },
      "execution_count": null,
      "outputs": [
        {
          "output_type": "execute_result",
          "data": {
            "text/plain": [
              "(array([ 10.,  16.,  17.,  20.,  16.,  20.,  48.,  72., 192., 589.]),\n",
              " array([0.20080145, 0.98599718, 1.7711929 , 2.55638863, 3.34158435,\n",
              "        4.12678008, 4.9119758 , 5.69717153, 6.48236725, 7.26756298,\n",
              "        8.0527587 ]),\n",
              " <a list of 10 Patch objects>)"
            ]
          },
          "metadata": {},
          "execution_count": 9
        },
        {
          "output_type": "display_data",
          "data": {
            "text/plain": [
              "<Figure size 432x288 with 1 Axes>"
            ],
            "image/png": "[encoded data removed]"
          },
          "metadata": {
            "needs_background": "light"
          }
        }
      ]
    },
    {
      "cell_type": "markdown",
      "source": [
        "# Tobit Model"
      ],
      "metadata": {
        "id": "RyIl-3LF93tU"
      }
    },
    {
      "cell_type": "markdown",
      "source": [
        "## Tobit class"
      ],
      "metadata": {
        "id": "rRwLRG6LSGS8"
      }
    },
    {
      "cell_type": "code",
      "source": [
        "import math as math\n",
        "import numpy as np\n",
        "from scipy.stats import norm\n",
        "from numpy.random import randn\n",
        "from scipy.optimize import minimize\n",
        "from sklearn.linear_model import LinearRegression\n",
        "\n",
        "class TobitRegression(object):\n",
        "  \n",
        "  def __init__(self, y, X, yl, yu, sigma=1):\n",
        "    '''\n",
        "    initialize tobitregression\n",
        "    '''\n",
        "    self.y = y\n",
        "    self.X = np.hstack([np.ones((X.shape[0],1)), X]) # add one column 1 to the matrix for intercept\n",
        "    self.X_no_intercept = X\n",
        "    self.yl = yl\n",
        "    self.yu = yu\n",
        "    self.sigma = sigma\n",
        "    self.const = 0.5 * np.log(2 * math.pi) + np.log(sigma)\n",
        "    self.beta_ = None # np.array for n+1 elements, intercept + # features\n",
        "    \n",
        "  def tobit_cost_function(self, beta):\n",
        "    '''\n",
        "    return tobit cost: n_array\n",
        "    '''\n",
        "    pred = self.X.dot(beta).ravel()\n",
        "    y = self.y\n",
        "    yl = self.yl\n",
        "    yu = self.yu\n",
        "    const = self.const\n",
        "    diff = (y - pred) / self.sigma\n",
        "    indl = (y == yl)\n",
        "    indu = (y == yu)\n",
        "    indmid = (y > yl) & (y < yu)\n",
        "    loss = (np.sum((diff[indmid] ** 2.0)/2 + const) - np.sum(norm.logcdf(diff[indl])) - np.sum(norm.logcdf(-diff[indu])))\n",
        "      \n",
        "    return loss\n",
        "\n",
        "  def negative_gradient(self, beta):\n",
        "    '''\n",
        "    return negative gradient of tobit loss: n_array\n",
        "    '''\n",
        "    pred = self.X.dot(beta).ravel()\n",
        "    X = self.X\n",
        "    y = self.y\n",
        "    yl = self.yl\n",
        "    yu = self.yu\n",
        "    sigma = self.sigma\n",
        "\n",
        "    diff = (y - pred)/sigma\n",
        "    indl = (y == yl)\n",
        "    indu = (y == yu)\n",
        "    indmid = (y > yl) & (y < yu)\n",
        "    \n",
        "    beta_der = np.zeros((X.shape[1],),dtype = np.float64) # initialize num of betas\n",
        "    residual = np.zeros((y.shape[0],), dtype=np.float64) # array size n*1, n = sample size\n",
        "    residual[indl] = (- np.exp(norm.logpdf(diff[indl])- norm.logcdf(diff[indl])) / sigma)\n",
        "    residual[indmid] = diff[indmid] / sigma\n",
        "    residual[indu] = (np.exp(norm.logpdf(diff[indu]) - norm.logcdf(-diff[indu])) / sigma)\n",
        "\n",
        "    beta_der = X.T.dot(residual) # get the partial derivatives for betas\n",
        "    \n",
        "    return beta_der\n",
        "\n",
        "  def fit(self):\n",
        "    '''\n",
        "    return optimal value of beta by bfgs algothrism: n_array\n",
        "    '''\n",
        "    # define the initial start parameters as result of linear regression + noise\n",
        "    lin_reg = LinearRegression()\n",
        "    lin_reg.fit(self.X_no_intercept,self.y)\n",
        "    beta_st = np.append(lin_reg.intercept_, lin_reg.coef_)  + randn(self.X.shape[1])*0.0015\n",
        "\n",
        "    result_beta = minimize(self.tobit_cost_function, beta_st, method='BFGS',jac=self.negative_gradient)\n",
        "    self.beta_ = result_beta['x']\n",
        "\n",
        "    return self\n",
        "\n",
        "  def predict(self, X):\n",
        "    '''\n",
        "    given X, predict Y for tobit regression\n",
        "    '''\n",
        "    X = np.hstack([np.ones((X.shape[0],1)), X])\n",
        "    beta = self.beta_\n",
        "    pred = X.dot(beta).ravel()\n",
        "    yl = self.yl\n",
        "    yu = self.yu\n",
        "\n",
        "    indl = (pred <= yl)\n",
        "    indu = (pred >= yu)\n",
        "    indmid = (pred > yl) & (pred < yu)\n",
        "\n",
        "    y_pred = pred\n",
        "    y_pred[indl] = yl\n",
        "    y_pred[indu] = yu\n",
        "\n",
        "    return pred\n",
        "\n",
        "  def score(self, y, y_pred):\n",
        "    return np.sum((y - y_pred)**2) / len(y)\n"
      ],
      "metadata": {
        "id": "eHzAfFdK_DUx"
      },
      "execution_count": null,
      "outputs": []
    },
    {
      "cell_type": "markdown",
      "source": [
        "## Run Tobit Model"
      ],
      "metadata": {
        "id": "-7ldjwXaSX5l"
      }
    },
    {
      "cell_type": "code",
      "source": [
        "tobit = TobitRegression(y, X, yl, yu)\n",
        "tobit.fit()\n",
        "tobit.beta_"
      ],
      "metadata": {
        "colab": {
          "base_uri": "https://localhost:8080/"
        },
        "id": "XWIrFUY2aMz3",
        "outputId": "0a3dbc1a-b8bc-428f-e3a2-82adb5a01929"
      },
      "execution_count": null,
      "outputs": [
        {
          "output_type": "execute_result",
          "data": {
            "text/plain": [
              "array([ 5.99426260e+00, -1.17362545e-02,  1.85601886e-03,  1.81947154e+00,\n",
              "       -1.88336636e-03])"
            ]
          },
          "metadata": {},
          "execution_count": 253
        }
      ]
    },
    {
      "cell_type": "code",
      "source": [
        "plt.hist(tobit.predict(X_test))"
      ],
      "metadata": {
        "colab": {
          "base_uri": "https://localhost:8080/",
          "height": 354
        },
        "id": "A-Hyk_RSF3d2",
        "outputId": "56c45e07-5c25-483d-a1a5-36196f25f68e"
      },
      "execution_count": null,
      "outputs": [
        {
          "output_type": "execute_result",
          "data": {
            "text/plain": [
              "(array([  4.,   9.,  23.,  25.,  41.,  45.,  75.,  78.,  98., 602.]),\n",
              " array([5.24500674, 5.52050606, 5.79600539, 6.07150472, 6.34700404,\n",
              "        6.62250337, 6.89800269, 7.17350202, 7.44900135, 7.72450067,\n",
              "        8.        ]),\n",
              " <a list of 10 Patch objects>)"
            ]
          },
          "metadata": {},
          "execution_count": 254
        },
        {
          "output_type": "display_data",
          "data": {
            "text/plain": [
              "<Figure size 432x288 with 1 Axes>"
            ],
            "image/png": "[encoded data removed]"
          },
          "metadata": {
            "needs_background": "light"
          }
        }
      ]
    },
    {
      "cell_type": "code",
      "source": [
        "plt.hist(y_test)"
      ],
      "metadata": {
        "colab": {
          "base_uri": "https://localhost:8080/",
          "height": 354
        },
        "id": "ZDoFyVrqkEqD",
        "outputId": "99056e4b-c7db-4d72-a191-f303848f542c"
      },
      "execution_count": null,
      "outputs": [
        {
          "output_type": "execute_result",
          "data": {
            "text/plain": [
              "(array([ 10.,  16.,  17.,  20.,  16.,  20.,  48.,  72., 192., 589.]),\n",
              " array([0.20080145, 0.98599718, 1.7711929 , 2.55638863, 3.34158435,\n",
              "        4.12678008, 4.9119758 , 5.69717153, 6.48236725, 7.26756298,\n",
              "        8.0527587 ]),\n",
              " <a list of 10 Patch objects>)"
            ]
          },
          "metadata": {},
          "execution_count": 255
        },
        {
          "output_type": "display_data",
          "data": {
            "text/plain": [
              "<Figure size 432x288 with 1 Axes>"
            ],
            "image/png": "[encoded data removed]"
          },
          "metadata": {
            "needs_background": "light"
          }
        }
      ]
    },
    {
      "cell_type": "code",
      "source": [
        "plt.hist(y)"
      ],
      "metadata": {
        "colab": {
          "base_uri": "https://localhost:8080/",
          "height": 319
        },
        "id": "19ZG4f0EkMC3",
        "outputId": "3f4b12f4-08ad-4a54-f9ae-9e8dbda881b1"
      },
      "execution_count": null,
      "outputs": [
        {
          "output_type": "execute_result",
          "data": {
            "text/plain": [
              "(array([168.,  25.,  39.,  46.,  61.,  59.,  69.,  81.,  80., 372.]),\n",
              " array([5. , 5.3, 5.6, 5.9, 6.2, 6.5, 6.8, 7.1, 7.4, 7.7, 8. ]),\n",
              " <a list of 10 Patch objects>)"
            ]
          },
          "metadata": {},
          "execution_count": 256
        },
        {
          "output_type": "display_data",
          "data": {
            "text/plain": [
              "<Figure size 432x288 with 1 Axes>"
            ],
            "image/png": "[encoded data removed]"
          },
          "metadata": {
            "needs_background": "light"
          }
        }
      ]
    },
    {
      "cell_type": "code",
      "source": [
        "tobit.score(y_test, tobit.predict(X_test))"
      ],
      "metadata": {
        "colab": {
          "base_uri": "https://localhost:8080/"
        },
        "id": "EDMCFvEpOOrH",
        "outputId": "e9a0cf4a-99d3-4b7d-80b1-2e9c5302e59f"
      },
      "execution_count": null,
      "outputs": [
        {
          "output_type": "execute_result",
          "data": {
            "text/plain": [
              "4.651908782052236"
            ]
          },
          "metadata": {},
          "execution_count": 231
        }
      ]
    },
    {
      "cell_type": "markdown",
      "source": [
        "## Run Linear Regression Model to Compare the Results"
      ],
      "metadata": {
        "id": "NrZW3qa2Sx8-"
      }
    },
    {
      "cell_type": "code",
      "source": [
        "lin_reg = LinearRegression()\n",
        "lin_reg.fit(X,y)\n",
        "np.append(lin_reg.intercept_, lin_reg.coef_) "
      ],
      "metadata": {
        "colab": {
          "base_uri": "https://localhost:8080/"
        },
        "id": "VuQ0Baao63IP",
        "outputId": "b2898f29-b6dc-4b13-c468-8cdb5fc78279"
      },
      "execution_count": null,
      "outputs": [
        {
          "output_type": "execute_result",
          "data": {
            "text/plain": [
              "array([ 5.99589466e+00, -1.30926343e-02,  7.28146301e-04,  1.81919666e+00,\n",
              "       -1.46216273e-03])"
            ]
          },
          "metadata": {},
          "execution_count": 237
        }
      ]
    },
    {
      "cell_type": "code",
      "source": [
        "np.append(lin_reg.intercept_, lin_reg.coef_) == tobit.beta_"
      ],
      "metadata": {
        "colab": {
          "base_uri": "https://localhost:8080/"
        },
        "id": "iwIKmekpOlCQ",
        "outputId": "55c842cb-bc22-4baa-913b-975760a7a497"
      },
      "execution_count": null,
      "outputs": [
        {
          "output_type": "execute_result",
          "data": {
            "text/plain": [
              "array([False, False, False, False, False])"
            ]
          },
          "metadata": {},
          "execution_count": 238
        }
      ]
    },
    {
      "cell_type": "code",
      "source": [
        "np.sum((y_test - lin_reg.predict(X_test))**2)/len(y_test)"
      ],
      "metadata": {
        "colab": {
          "base_uri": "https://localhost:8080/"
        },
        "id": "_6VB8YRn44TU",
        "outputId": "0d2baa71-8584-45f7-f0e0-8fe9a5c73aad"
      },
      "execution_count": null,
      "outputs": [
        {
          "output_type": "execute_result",
          "data": {
            "text/plain": [
              "1.2028966386995195"
            ]
          },
          "metadata": {},
          "execution_count": 239
        }
      ]
    },
    {
      "cell_type": "markdown",
      "source": [
        "# Grabit Model"
      ],
      "metadata": {
        "id": "jR2ggmko29Vm"
      }
    },
    {
      "cell_type": "markdown",
      "source": [
        "## Regression"
      ],
      "metadata": {
        "id": "kCwtlNuq6HUP"
      }
    },
    {
      "cell_type": "code",
      "source": [
        "# train model and make predictions\n",
        "model=KTBoost.BoostingRegressor(loss='tobit', yl=yl, yu=yu).fit(X, y)\n",
        "y_pred=model.predict(X_test)"
      ],
      "metadata": {
        "id": "Roj88J3Z3CVj"
      },
      "execution_count": null,
      "outputs": []
    },
    {
      "cell_type": "code",
      "source": [
        "plt.hist(y_pred)"
      ],
      "metadata": {
        "colab": {
          "base_uri": "https://localhost:8080/",
          "height": 356
        },
        "id": "vqWDWl7cguiB",
        "outputId": "ccb0804c-a8b6-43f7-8563-401910cb5059"
      },
      "execution_count": null,
      "outputs": [
        {
          "output_type": "execute_result",
          "data": {
            "text/plain": [
              "(array([ 34.,  28.,  43.,  46.,  65.,  95., 250., 337.,  90.,  12.]),\n",
              " array([2.6189403 , 3.3276941 , 4.0364479 , 4.74520171, 5.45395551,\n",
              "        6.16270932, 6.87146312, 7.58021692, 8.28897073, 8.99772453,\n",
              "        9.70647833]),\n",
              " <a list of 10 Patch objects>)"
            ]
          },
          "metadata": {},
          "execution_count": 257
        },
        {
          "output_type": "display_data",
          "data": {
            "text/plain": [
              "<Figure size 432x288 with 1 Axes>"
            ],
            "image/png": "[encoded data removed]"
          },
          "metadata": {
            "needs_background": "light"
          }
        }
      ]
    },
    {
      "cell_type": "code",
      "source": [
        "print(\"Test error standard least squares grabit boosting: \" + str(((y_pred-y_test)**2).mean()))"
      ],
      "metadata": {
        "colab": {
          "base_uri": "https://localhost:8080/"
        },
        "id": "snTad6SJh3oI",
        "outputId": "c7cfd0e5-95bf-4a61-e59b-1dae85a8b762"
      },
      "execution_count": null,
      "outputs": [
        {
          "output_type": "stream",
          "name": "stdout",
          "text": [
            "Test error standard least squares grabit boosting: 0.41945343495435733\n"
          ]
        }
      ]
    },
    {
      "cell_type": "code",
      "source": [
        "print(\"Test error standard least squares gradient boosting: \" + str(((y_pred_ls-y_test)**2).mean()))"
      ],
      "metadata": {
        "colab": {
          "base_uri": "https://localhost:8080/"
        },
        "id": "X9tt7PYVhgIK",
        "outputId": "0e66378a-c617-4ae6-96c1-81ba72484c0c"
      },
      "execution_count": null,
      "outputs": [
        {
          "output_type": "stream",
          "name": "stdout",
          "text": [
            "Test error standard least squares gradient boosting: 0.8599306588527462\n"
          ]
        }
      ]
    },
    {
      "cell_type": "markdown",
      "source": [
        "## Classifications"
      ],
      "metadata": {
        "id": "0C_hPB5O6xGy"
      }
    },
    {
      "cell_type": "code",
      "source": [
        ""
      ],
      "metadata": {
        "id": "s0fP-TCf61TG"
      },
      "execution_count": null,
      "outputs": []
    },
    {
      "cell_type": "markdown",
      "source": [
        "# Gradient Boosting Model"
      ],
      "metadata": {
        "id": "sWZvyNxs-5cR"
      }
    },
    {
      "cell_type": "markdown",
      "source": [
        "## Least Squares, Regression, KTBoost"
      ],
      "metadata": {
        "id": "vWp-U-yB3lby"
      }
    },
    {
      "cell_type": "code",
      "source": [
        "model_ls=KTBoost.BoostingRegressor(loss='ls').fit(X, y)\n",
        "y_pred_ls=model_ls.predict(X_test)\n",
        "print(\"Test error standard least squares gradient boosting: \" + str(((y_pred_ls-y_test)**2).mean()))"
      ],
      "metadata": {
        "id": "PjEk8eIj9_Td"
      },
      "execution_count": null,
      "outputs": []
    },
    {
      "cell_type": "markdown",
      "source": [
        "## Least Squares, Regression, Sklearn"
      ],
      "metadata": {
        "id": "iHlW3-gM7v1j"
      }
    },
    {
      "cell_type": "code",
      "source": [
        ""
      ],
      "metadata": {
        "id": "pRdDAqAL759h"
      },
      "execution_count": 258,
      "outputs": []
    },
    {
      "cell_type": "markdown",
      "source": [
        "## Logistic, Classification, KTBoost with Single Newton Step"
      ],
      "metadata": {
        "id": "EdIZN58-77-M"
      }
    },
    {
      "cell_type": "code",
      "source": [
        ""
      ],
      "metadata": {
        "id": "2tfJTPvG8FaK"
      },
      "execution_count": null,
      "outputs": []
    },
    {
      "cell_type": "code",
      "source": [
        ""
      ],
      "metadata": {
        "id": "jCa9rDGH8SsN"
      },
      "execution_count": null,
      "outputs": []
    },
    {
      "cell_type": "markdown",
      "source": [
        "## Logistic, Classification, SKlearn"
      ],
      "metadata": {
        "id": "2lKeNsfQ8GA4"
      }
    },
    {
      "cell_type": "code",
      "source": [
        ""
      ],
      "metadata": {
        "id": "W6AVBapC8GnF"
      },
      "execution_count": null,
      "outputs": []
    },
    {
      "cell_type": "markdown",
      "source": [
        "# AdaBoost"
      ],
      "metadata": {
        "id": "iYDyWjhXTp_B"
      }
    },
    {
      "cell_type": "code",
      "source": [
        ""
      ],
      "metadata": {
        "id": "BBp2cq6ETxgo"
      },
      "execution_count": null,
      "outputs": []
    },
    {
      "cell_type": "markdown",
      "source": [
        "# Random Forest"
      ],
      "metadata": {
        "id": "wPBYwkj3S6iq"
      }
    },
    {
      "cell_type": "code",
      "source": [
        ""
      ],
      "metadata": {
        "id": "P3EihK1RS_pr"
      },
      "execution_count": null,
      "outputs": []
    },
    {
      "cell_type": "markdown",
      "source": [
        "# Logistic Regression"
      ],
      "metadata": {
        "id": "j0317mipTAD1"
      }
    },
    {
      "cell_type": "code",
      "source": [
        ""
      ],
      "metadata": {
        "id": "5TNC5p9d6aNS"
      },
      "execution_count": null,
      "outputs": []
    },
    {
      "cell_type": "markdown",
      "source": [
        "# AUROC Curve for Binary Classifiers"
      ],
      "metadata": {
        "id": "5SdqNMYl6a3e"
      }
    },
    {
      "cell_type": "code",
      "source": [
        ""
      ],
      "metadata": {
        "id": "dLlwwe9v6jXk"
      },
      "execution_count": null,
      "outputs": []
    }
  ]
}