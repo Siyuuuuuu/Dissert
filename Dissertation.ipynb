{
  "nbformat": 4,
  "nbformat_minor": 0,
  "metadata": {
    "colab": {
      "name": "Dissertation.ipynb",
      "provenance": [],
      "collapsed_sections": [],
      "toc_visible": true,
      "authorship_tag": "ABX9TyMgAVnoExWs09TFEf6pXVSt",
      "include_colab_link": true
    },
    "kernelspec": {
      "name": "python3",
      "display_name": "Python 3"
    },
    "language_info": {
      "name": "python"
    }
  },
  "cells": [
    {
      "cell_type": "markdown",
      "metadata": {
        "id": "view-in-github",
        "colab_type": "text"
      },
      "source": [
        "<a href=\"https://colab.research.google.com/github/Siyuuuuuu/Dissert/blob/main/Dissertation.ipynb\" target=\"_parent\"><img src=\"https://colab.research.google.com/assets/colab-badge.svg\" alt=\"Open In Colab\"/></a>"
      ]
    },
    {
      "cell_type": "code",
      "execution_count": null,
      "metadata": {
        "colab": {
          "base_uri": "https://localhost:8080/"
        },
        "id": "LratKvtD3tz5",
        "outputId": "063c9d0c-acab-42b5-da6e-cc6293e90e26"
      },
      "outputs": [
        {
          "output_type": "stream",
          "name": "stdout",
          "text": [
            "Looking in indexes: https://pypi.org/simple, https://us-python.pkg.dev/colab-wheels/public/simple/\n",
            "Requirement already satisfied: KTBoost in /usr/local/lib/python3.7/dist-packages (0.2.2)\n",
            "Requirement already satisfied: bottleneck in /usr/local/lib/python3.7/dist-packages (from KTBoost) (1.3.5)\n",
            "Requirement already satisfied: scikit-learn>=1.0.1 in /usr/local/lib/python3.7/dist-packages (from KTBoost) (1.0.2)\n",
            "Requirement already satisfied: matplotlib in /usr/local/lib/python3.7/dist-packages (from KTBoost) (3.2.2)\n",
            "Requirement already satisfied: numpy>=1.14.6 in /usr/local/lib/python3.7/dist-packages (from scikit-learn>=1.0.1->KTBoost) (1.21.6)\n",
            "Requirement already satisfied: joblib>=0.11 in /usr/local/lib/python3.7/dist-packages (from scikit-learn>=1.0.1->KTBoost) (1.1.0)\n",
            "Requirement already satisfied: threadpoolctl>=2.0.0 in /usr/local/lib/python3.7/dist-packages (from scikit-learn>=1.0.1->KTBoost) (3.1.0)\n",
            "Requirement already satisfied: scipy>=1.1.0 in /usr/local/lib/python3.7/dist-packages (from scikit-learn>=1.0.1->KTBoost) (1.7.3)\n",
            "Requirement already satisfied: python-dateutil>=2.1 in /usr/local/lib/python3.7/dist-packages (from matplotlib->KTBoost) (2.8.2)\n",
            "Requirement already satisfied: cycler>=0.10 in /usr/local/lib/python3.7/dist-packages (from matplotlib->KTBoost) (0.11.0)\n",
            "Requirement already satisfied: kiwisolver>=1.0.1 in /usr/local/lib/python3.7/dist-packages (from matplotlib->KTBoost) (1.4.3)\n",
            "Requirement already satisfied: pyparsing!=2.0.4,!=2.1.2,!=2.1.6,>=2.0.1 in /usr/local/lib/python3.7/dist-packages (from matplotlib->KTBoost) (3.0.9)\n",
            "Requirement already satisfied: typing-extensions in /usr/local/lib/python3.7/dist-packages (from kiwisolver>=1.0.1->matplotlib->KTBoost) (4.1.1)\n",
            "Requirement already satisfied: six>=1.5 in /usr/local/lib/python3.7/dist-packages (from python-dateutil>=2.1->matplotlib->KTBoost) (1.15.0)\n"
          ]
        }
      ],
      "source": [
        "pip install -U KTBoost"
      ]
    },
    {
      "cell_type": "code",
      "source": [
        "!git clone https://github.com/uoe-iaml/DL-S2-2022-CW2.git"
      ],
      "metadata": {
        "colab": {
          "base_uri": "https://localhost:8080/"
        },
        "id": "eLidw1k09EXo",
        "outputId": "779f9582-fec3-47a0-d32c-8a57593bced7"
      },
      "execution_count": null,
      "outputs": [
        {
          "output_type": "stream",
          "name": "stdout",
          "text": [
            "Cloning into 'DL-S2-2022-CW2'...\n",
            "remote: Enumerating objects: 29, done.\u001b[K\n",
            "remote: Counting objects: 100% (29/29), done.\u001b[K\n",
            "remote: Compressing objects: 100% (26/26), done.\u001b[K\n",
            "remote: Total 29 (delta 11), reused 0 (delta 0), pack-reused 0\u001b[K\n",
            "Unpacking objects: 100% (29/29), done.\n"
          ]
        }
      ]
    },
    {
      "cell_type": "code",
      "source": [
        "!git clone https://github.com/Siyuuuuuu/Dissertation.git"
      ],
      "metadata": {
        "colab": {
          "base_uri": "https://localhost:8080/"
        },
        "id": "dA1tYN-CCINN",
        "outputId": "3aee78ef-17c8-4e88-f696-c62d04a4c9df"
      },
      "execution_count": null,
      "outputs": [
        {
          "output_type": "stream",
          "name": "stdout",
          "text": [
            "Cloning into 'Dissertation'...\n",
            "fatal: could not read Username for 'https://github.com': No such device or address\n"
          ]
        }
      ]
    },
    {
      "cell_type": "code",
      "source": [
        "!git clone https://github.com/Siyuuuuuu/Dissertation.git"
      ],
      "metadata": {
        "colab": {
          "base_uri": "https://localhost:8080/"
        },
        "id": "kVeyT_o8CVk0",
        "outputId": "80624d50-7a58-47e3-f065-c242d9143a22"
      },
      "execution_count": null,
      "outputs": [
        {
          "output_type": "stream",
          "name": "stdout",
          "text": [
            "Cloning into 'Dissertation'...\n",
            "fatal: could not read Username for 'https://github.com': No such device or address\n"
          ]
        }
      ]
    },
    {
      "cell_type": "code",
      "source": [
        "!git clone https://github.com/Siyuuuuuu/Dissert.git"
      ],
      "metadata": {
        "colab": {
          "base_uri": "https://localhost:8080/"
        },
        "id": "LBFDaAW-E_lI",
        "outputId": "3f5dceae-9a69-4852-ea8d-e0a5dfe329ad"
      },
      "execution_count": null,
      "outputs": [
        {
          "output_type": "stream",
          "name": "stdout",
          "text": [
            "Cloning into 'Dissert'...\n",
            "remote: Enumerating objects: 9, done.\u001b[K\n",
            "remote: Counting objects: 100% (9/9), done.\u001b[K\n",
            "remote: Compressing objects: 100% (7/7), done.\u001b[K\n",
            "remote: Total 9 (delta 1), reused 0 (delta 0), pack-reused 0\u001b[K\n",
            "Unpacking objects: 100% (9/9), done.\n"
          ]
        }
      ]
    },
    {
      "cell_type": "code",
      "source": [
        "!git init\n",
        "!git add Dissertation.ipynb\n",
        "!git commit -m \"first commit\"\n",
        "!git branch -M main\n",
        "!git remote add origin https://github.com/Siyuuuuuu/Dissert.git\n",
        "!git push -u origin main"
      ],
      "metadata": {
        "colab": {
          "base_uri": "https://localhost:8080/"
        },
        "id": "6uOyNYhk9qja",
        "outputId": "0a5054a0-9f40-4c14-ce93-ae2e47d53275"
      },
      "execution_count": null,
      "outputs": [
        {
          "output_type": "stream",
          "name": "stdout",
          "text": [
            "Initialized empty Git repository in /content/.git/\n",
            "fatal: pathspec 'Dissertation.ipynb' did not match any files\n",
            "\n",
            "*** Please tell me who you are.\n",
            "\n",
            "Run\n",
            "\n",
            "  git config --global user.email \"you@example.com\"\n",
            "  git config --global user.name \"Your Name\"\n",
            "\n",
            "to set your account's default identity.\n",
            "Omit --global to set the identity only in this repository.\n",
            "\n",
            "fatal: unable to auto-detect email address (got 'root@8b1eee024bff.(none)')\n",
            "error: refname refs/heads/master not found\n",
            "fatal: Branch rename failed\n",
            "error: src refspec main does not match any.\n",
            "error: failed to push some refs to 'https://github.com/Siyuuuuuu/Dissert.git'\n"
          ]
        }
      ]
    },
    {
      "cell_type": "code",
      "source": [
        "! git config --global user.email \"s2263019@ed.ac.uk\"\n",
        "! git config --global user.name \"Siyu Ji\""
      ],
      "metadata": {
        "id": "c3QICvmPAplW"
      },
      "execution_count": null,
      "outputs": []
    },
    {
      "cell_type": "code",
      "source": [
        "!git remote add origin https://github.com/Siyuuuuuu/Dissertation.git\n",
        "!git branch -M main\n",
        "!git push -u origin main"
      ],
      "metadata": {
        "colab": {
          "base_uri": "https://localhost:8080/"
        },
        "id": "D57ik074-YLp",
        "outputId": "2a152a2b-76bd-4197-e4a1-2b609f8ffa32"
      },
      "execution_count": null,
      "outputs": [
        {
          "output_type": "stream",
          "name": "stdout",
          "text": [
            "fatal: remote origin already exists.\n",
            "error: refname refs/heads/master not found\n",
            "fatal: Branch rename failed\n",
            "error: src refspec main does not match any.\n",
            "error: failed to push some refs to 'https://github.com/Siyuuuuuu/Dissert.git'\n"
          ]
        }
      ]
    },
    {
      "cell_type": "markdown",
      "source": [
        "# Templete Dataset for Tobit/Other models"
      ],
      "metadata": {
        "id": "mfQsznzE2SWq"
      }
    },
    {
      "cell_type": "code",
      "source": [
        "pip install -U KTBoost"
      ],
      "metadata": {
        "colab": {
          "base_uri": "https://localhost:8080/"
        },
        "id": "JQ1ud_QR2v4z",
        "outputId": "7e216d66-d8c7-497c-fc9f-d3e645b631d6"
      },
      "execution_count": 3,
      "outputs": [
        {
          "output_type": "stream",
          "name": "stdout",
          "text": [
            "Looking in indexes: https://pypi.org/simple, https://us-python.pkg.dev/colab-wheels/public/simple/\n",
            "Collecting KTBoost\n",
            "  Downloading KTBoost-0.2.2-py3-none-any.whl (59 kB)\n",
            "\u001b[K     |████████████████████████████████| 59 kB 3.0 MB/s \n",
            "\u001b[?25hCollecting bottleneck\n",
            "  Downloading Bottleneck-1.3.5-cp37-cp37m-manylinux_2_5_x86_64.manylinux1_x86_64.manylinux_2_17_x86_64.manylinux2014_x86_64.whl (355 kB)\n",
            "\u001b[K     |████████████████████████████████| 355 kB 10.4 MB/s \n",
            "\u001b[?25hRequirement already satisfied: scikit-learn>=1.0.1 in /usr/local/lib/python3.7/dist-packages (from KTBoost) (1.0.2)\n",
            "Requirement already satisfied: matplotlib in /usr/local/lib/python3.7/dist-packages (from KTBoost) (3.2.2)\n",
            "Requirement already satisfied: threadpoolctl>=2.0.0 in /usr/local/lib/python3.7/dist-packages (from scikit-learn>=1.0.1->KTBoost) (3.1.0)\n",
            "Requirement already satisfied: scipy>=1.1.0 in /usr/local/lib/python3.7/dist-packages (from scikit-learn>=1.0.1->KTBoost) (1.7.3)\n",
            "Requirement already satisfied: joblib>=0.11 in /usr/local/lib/python3.7/dist-packages (from scikit-learn>=1.0.1->KTBoost) (1.1.0)\n",
            "Requirement already satisfied: numpy>=1.14.6 in /usr/local/lib/python3.7/dist-packages (from scikit-learn>=1.0.1->KTBoost) (1.21.6)\n",
            "Requirement already satisfied: cycler>=0.10 in /usr/local/lib/python3.7/dist-packages (from matplotlib->KTBoost) (0.11.0)\n",
            "Requirement already satisfied: python-dateutil>=2.1 in /usr/local/lib/python3.7/dist-packages (from matplotlib->KTBoost) (2.8.2)\n",
            "Requirement already satisfied: kiwisolver>=1.0.1 in /usr/local/lib/python3.7/dist-packages (from matplotlib->KTBoost) (1.4.3)\n",
            "Requirement already satisfied: pyparsing!=2.0.4,!=2.1.2,!=2.1.6,>=2.0.1 in /usr/local/lib/python3.7/dist-packages (from matplotlib->KTBoost) (3.0.9)\n",
            "Requirement already satisfied: typing-extensions in /usr/local/lib/python3.7/dist-packages (from kiwisolver>=1.0.1->matplotlib->KTBoost) (4.1.1)\n",
            "Requirement already satisfied: six>=1.5 in /usr/local/lib/python3.7/dist-packages (from python-dateutil>=2.1->matplotlib->KTBoost) (1.15.0)\n",
            "Installing collected packages: bottleneck, KTBoost\n",
            "Successfully installed KTBoost-0.2.2 bottleneck-1.3.5\n"
          ]
        }
      ]
    },
    {
      "cell_type": "code",
      "source": [
        "import sklearn.datasets as datasets\n",
        "import numpy as np\n",
        "import KTBoost.KTBoost as KTBoost\n",
        "import random\n",
        "import matplotlib.pyplot as plt"
      ],
      "metadata": {
        "id": "BU4YenGT4MNN"
      },
      "execution_count": 4,
      "outputs": []
    },
    {
      "cell_type": "code",
      "source": [
        "# simulate data\n",
        "random.seed(10)\n",
        "n = 1000\n",
        "X, lp = datasets.make_friedman3(n_samples=n)\n",
        "X_test, y_test = datasets.make_friedman3(n_samples=n)\n",
        "lp = lp*5+0.2\n",
        "y_test = y_test*5+0.2\n",
        "y=np.random.normal(loc=lp,scale=1)"
      ],
      "metadata": {
        "id": "RIKvcRyx2iKJ"
      },
      "execution_count": 5,
      "outputs": []
    },
    {
      "cell_type": "code",
      "source": [
        "help(datasets.make_friedman3)"
      ],
      "metadata": {
        "colab": {
          "base_uri": "https://localhost:8080/"
        },
        "id": "tHoiGfLy3Jyu",
        "outputId": "d47d4a86-e120-4a0d-d111-622cf70522e4"
      },
      "execution_count": 6,
      "outputs": [
        {
          "output_type": "stream",
          "name": "stdout",
          "text": [
            "Help on function make_friedman3 in module sklearn.datasets._samples_generator:\n",
            "\n",
            "make_friedman3(n_samples=100, *, noise=0.0, random_state=None)\n",
            "    Generate the \"Friedman #3\" regression problem.\n",
            "    \n",
            "    This dataset is described in Friedman [1] and Breiman [2].\n",
            "    \n",
            "    Inputs `X` are 4 independent features uniformly distributed on the\n",
            "    intervals::\n",
            "    \n",
            "        0 <= X[:, 0] <= 100,\n",
            "        40 * pi <= X[:, 1] <= 560 * pi,\n",
            "        0 <= X[:, 2] <= 1,\n",
            "        1 <= X[:, 3] <= 11.\n",
            "    \n",
            "    The output `y` is created according to the formula::\n",
            "    \n",
            "        y(X) = arctan((X[:, 1] * X[:, 2] - 1 / (X[:, 1] * X[:, 3])) / X[:, 0]) + noise * N(0, 1).\n",
            "    \n",
            "    Read more in the :ref:`User Guide <sample_generators>`.\n",
            "    \n",
            "    Parameters\n",
            "    ----------\n",
            "    n_samples : int, default=100\n",
            "        The number of samples.\n",
            "    \n",
            "    noise : float, default=0.0\n",
            "        The standard deviation of the gaussian noise applied to the output.\n",
            "    \n",
            "    random_state : int, RandomState instance or None, default=None\n",
            "        Determines random number generation for dataset noise. Pass an int\n",
            "        for reproducible output across multiple function calls.\n",
            "        See :term:`Glossary <random_state>`.\n",
            "    \n",
            "    Returns\n",
            "    -------\n",
            "    X : ndarray of shape (n_samples, 4)\n",
            "        The input samples.\n",
            "    \n",
            "    y : ndarray of shape (n_samples,)\n",
            "        The output values.\n",
            "    \n",
            "    References\n",
            "    ----------\n",
            "    .. [1] J. Friedman, \"Multivariate adaptive regression splines\", The Annals\n",
            "           of Statistics 19 (1), pages 1-67, 1991.\n",
            "    \n",
            "    .. [2] L. Breiman, \"Bagging predictors\", Machine Learning 24,\n",
            "           pages 123-140, 1996.\n",
            "\n"
          ]
        }
      ]
    },
    {
      "cell_type": "code",
      "source": [
        "# apply censoring\n",
        "yu=8\n",
        "yl=5\n",
        "y[y>=yu]=yu\n",
        "y[y<=yl]=yl\n",
        "\n",
        "# create binary variable 0 & 1 for training datasets\n",
        "y_binary_01 = np.ones(len(y))\n",
        "y_binary_01[y<yu] = 0\n",
        "\n",
        "# create binary variable -1 & 1\n",
        "y_binary_11 = np.ones(len(y))\n",
        "y_binary_11[y<yu] = -1\n",
        "\n",
        "# create binary variable 0 & 1 for testing datasets\n",
        "y_binary_tt01 = np.ones(len(y_test))\n",
        "y_binary_tt01[y_test<yu] = 0\n",
        "\n",
        "# create binary variable -1 & 1\n",
        "y_binary_tt11 = np.ones(len(y_test))\n",
        "y_binary_tt11[y_test<yu] = -1"
      ],
      "metadata": {
        "id": "e2MRfKX-2msH"
      },
      "execution_count": 7,
      "outputs": []
    },
    {
      "cell_type": "code",
      "source": [
        "plt.hist(y)"
      ],
      "metadata": {
        "colab": {
          "base_uri": "https://localhost:8080/",
          "height": 319
        },
        "id": "kuL6ooNY5LfB",
        "outputId": "594fc09f-2057-42aa-a0cf-7a1b42ccd9e2"
      },
      "execution_count": 8,
      "outputs": [
        {
          "output_type": "execute_result",
          "data": {
            "text/plain": [
              "(array([168.,  25.,  39.,  46.,  61.,  59.,  69.,  81.,  80., 372.]),\n",
              " array([5. , 5.3, 5.6, 5.9, 6.2, 6.5, 6.8, 7.1, 7.4, 7.7, 8. ]),\n",
              " <a list of 10 Patch objects>)"
            ]
          },
          "metadata": {},
          "execution_count": 8
        },
        {
          "output_type": "display_data",
          "data": {
            "text/plain": [
              "<Figure size 432x288 with 1 Axes>"
            ],
            "image/png": "[encoded data removed]"
          },
          "metadata": {
            "needs_background": "light"
          }
        }
      ]
    },
    {
      "cell_type": "code",
      "source": [
        "plt.hist(y_test)"
      ],
      "metadata": {
        "colab": {
          "base_uri": "https://localhost:8080/",
          "height": 354
        },
        "id": "_ppqus_O6erY",
        "outputId": "88dbc4e5-f9b6-42ee-81d5-106306bbfdc6"
      },
      "execution_count": 9,
      "outputs": [
        {
          "output_type": "execute_result",
          "data": {
            "text/plain": [
              "(array([ 10.,  16.,  17.,  20.,  16.,  20.,  48.,  72., 192., 589.]),\n",
              " array([0.20080145, 0.98599718, 1.7711929 , 2.55638863, 3.34158435,\n",
              "        4.12678008, 4.9119758 , 5.69717153, 6.48236725, 7.26756298,\n",
              "        8.0527587 ]),\n",
              " <a list of 10 Patch objects>)"
            ]
          },
          "metadata": {},
          "execution_count": 9
        },
        {
          "output_type": "display_data",
          "data": {
            "text/plain": [
              "<Figure size 432x288 with 1 Axes>"
            ],
            "image/png": "[encoded data removed]"
          },
          "metadata": {
            "needs_background": "light"
          }
        }
      ]
    },
    {
      "cell_type": "markdown",
      "source": [
        "# Tobit Model"
      ],
      "metadata": {
        "id": "RyIl-3LF93tU"
      }
    },
    {
      "cell_type": "code",
      "source": [
        "import math as math\n",
        "import numpy as np\n",
        "from scipy.stats import norm\n",
        "from numpy.random import randn\n",
        "from scipy.optimize import minimize\n",
        "from sklearn.linear_model import LinearRegression\n",
        "\n",
        "class TobitRegression(object):\n",
        "  \n",
        "  def __init__(self, y, X, yl, yu, sigma=1):\n",
        "    '''\n",
        "    initialize tobitregression\n",
        "    '''\n",
        "    self.y = y\n",
        "    self.X = np.hstack([np.ones((X.shape[0],1)), X]) # add one column 1 to the matrix for intercept\n",
        "    self.X_no_intercept = X\n",
        "    self.yl = yl\n",
        "    self.yu = yu\n",
        "    self.sigma = sigma\n",
        "    self.const = 0.5 * np.log(2 * math.pi) + np.log(sigma)\n",
        "    self.beta_ = None # np.array for n+1 elements, intercept + # features\n",
        "    \n",
        "  def tobit_cost_function(self, beta):\n",
        "    '''\n",
        "    return tobit cost: n_array\n",
        "    '''\n",
        "    pred = self.X.dot(beta).ravel()\n",
        "    y = self.y\n",
        "    yl = self.yl\n",
        "    yu = self.yu\n",
        "    const = self.const\n",
        "    diff = (y - pred) / self.sigma\n",
        "    indl = (y == yl)\n",
        "    indu = (y == yu)\n",
        "    indmid = (y > yl) & (y < yu)\n",
        "    loss = (np.sum((diff[indmid] ** 2.0)/2 + const) - np.sum(norm.logcdf(diff[indl])) - np.sum(norm.logcdf(-diff[indu])))\n",
        "      \n",
        "    return loss\n",
        "\n",
        "  def negative_gradient(self, beta):\n",
        "    '''\n",
        "    return negative gradient of tobit loss: n_array\n",
        "    '''\n",
        "    pred = self.X.dot(beta).ravel()\n",
        "    X = self.X\n",
        "    y = self.y\n",
        "    yl = self.yl\n",
        "    yu = self.yu\n",
        "    sigma = self.sigma\n",
        "\n",
        "    diff = (y - pred)/sigma\n",
        "    indl = (y == yl)\n",
        "    indu = (y == yu)\n",
        "    indmid = (y > yl) & (y < yu)\n",
        "    \n",
        "    beta_der = np.zeros((X.shape[1],),dtype = np.float64) # initialize num of betas\n",
        "    residual = np.zeros((y.shape[0],), dtype=np.float64) # array size n*1, n = sample size\n",
        "    residual[indl] = (- np.exp(norm.logpdf(diff[indl])- norm.logcdf(diff[indl])) / sigma)\n",
        "    residual[indmid] = diff[indmid] / sigma\n",
        "    residual[indu] = (np.exp(norm.logpdf(diff[indu]) - norm.logcdf(-diff[indu])) / sigma)\n",
        "\n",
        "    beta_der = X.T.dot(residual) # get the partial derivatives for betas\n",
        "    \n",
        "    return beta_der\n",
        "\n",
        "  def fit(self):\n",
        "    '''\n",
        "    return optimal value of beta by bfgs algothrism: n_array\n",
        "    '''\n",
        "    # define the initial start parameters as result of linear regression\n",
        "    lin_reg = LinearRegression()\n",
        "    lin_reg.fit(self.X_no_intercept,self.y)\n",
        "    beta_st = np.append(lin_reg.intercept_, lin_reg.coef_) + randn(self.X.shape[1])*0.0015\n",
        "\n",
        "    result_beta = minimize(self.tobit_cost_function, beta_st, method='BFGS',jac=self.negative_gradient)\n",
        "    self.beta_ = result_beta['x']\n",
        "\n",
        "    return self\n",
        "\n",
        "  def predict(self, X):\n",
        "    '''\n",
        "    given X, predict Y for tobit regression\n",
        "    '''\n",
        "    X = np.hstack([np.ones((X.shape[0],1)), X])\n",
        "    beta = self.beta_\n",
        "    pred = X.dot(beta).ravel()\n",
        "    yl = self.yl\n",
        "    yu = self.yu\n",
        "\n",
        "    indl = (pred <= yl)\n",
        "    indu = (pred >= yu)\n",
        "    indmid = (pred > yl) & (pred < yu)\n",
        "\n",
        "    y_pred = pred\n",
        "    y_pred[indl] = yl\n",
        "    y_pred[indu] = yu\n",
        "\n",
        "    return y_pred\n",
        "\n",
        "  def score(self, y, y_pred):\n",
        "    return np.sum((y - y_pred)**2) / len(y)\n"
      ],
      "metadata": {
        "id": "eHzAfFdK_DUx"
      },
      "execution_count": 186,
      "outputs": []
    },
    {
      "cell_type": "code",
      "source": [
        "tobit = TobitRegression(y, X, yl, yu)\n",
        "tobit.fit()\n",
        "tobit.beta_"
      ],
      "metadata": {
        "colab": {
          "base_uri": "https://localhost:8080/"
        },
        "id": "XWIrFUY2aMz3",
        "outputId": "a52d3273-dd13-49ee-97f2-1d81a4978e7e"
      },
      "execution_count": 189,
      "outputs": [
        {
          "output_type": "execute_result",
          "data": {
            "text/plain": [
              "<__main__.TobitRegression at 0x7f06f9365a90>"
            ]
          },
          "metadata": {},
          "execution_count": 189
        }
      ]
    },
    {
      "cell_type": "code",
      "source": [
        "tobit.predict(X_test)"
      ],
      "metadata": {
        "colab": {
          "base_uri": "https://localhost:8080/"
        },
        "id": "A-Hyk_RSF3d2",
        "outputId": "5980bafe-af63-40db-a3ed-2db65dd73c18"
      },
      "execution_count": 190,
      "outputs": [
        {
          "output_type": "execute_result",
          "data": {
            "text/plain": [
              "array([5.        , 5.53789114, 5.39382447, 5.55578765, 7.12616981,\n",
              "       5.10120628, 6.1616018 , 5.        , 7.01666607, 6.03908671,\n",
              "       5.54199455, 5.71475916, 6.26783314, 5.59910807, 6.27487995,\n",
              "       5.        , 6.82676219, 5.39991645, 5.30932343, 5.09191286,\n",
              "       6.22978532, 5.        , 5.        , 5.7187223 , 5.71528582,\n",
              "       6.09645154, 5.78450889, 5.51310436, 7.42631538, 5.9560968 ,\n",
              "       5.29414877, 6.0051593 , 5.08988012, 5.71698134, 5.33938317,\n",
              "       5.        , 6.9308338 , 5.07936242, 6.38432172, 5.82949337,\n",
              "       5.30292558, 5.9118261 , 6.82701611, 5.30519687, 5.29438419,\n",
              "       6.22041153, 5.43408157, 6.19349891, 5.602095  , 5.30437584,\n",
              "       5.35277854, 6.80299077, 5.39091049, 6.23179298, 6.44086584,\n",
              "       7.24037592, 5.        , 7.16103694, 5.90740409, 5.90782874,\n",
              "       5.2770168 , 5.45954544, 5.        , 7.44966319, 5.49405091,\n",
              "       5.        , 6.45902646, 6.34753686, 5.87029668, 5.99915924,\n",
              "       5.23168025, 6.31541133, 5.46595929, 6.62593353, 5.181607  ,\n",
              "       6.1447506 , 5.        , 6.01053829, 5.90187145, 5.21593958,\n",
              "       5.        , 5.97913551, 6.06108517, 5.98757803, 5.78108085,\n",
              "       5.        , 5.03601545, 6.09067555, 6.33428227, 5.54520018,\n",
              "       5.37043634, 5.46271387, 5.16828824, 5.5003467 , 6.95506681,\n",
              "       5.34031299, 6.40292132, 7.19486751, 5.26049651, 6.40706737,\n",
              "       5.50325659, 6.04664703, 5.38604369, 5.        , 5.        ,\n",
              "       6.32778864, 5.        , 5.94208027, 6.51045623, 6.47256921,\n",
              "       5.        , 5.        , 7.37197585, 5.62518675, 5.87690264,\n",
              "       5.        , 5.        , 5.        , 5.44347088, 5.61620004,\n",
              "       6.39279007, 5.97555912, 6.13148341, 5.85587783, 6.40605147,\n",
              "       5.        , 6.42209264, 7.31961799, 5.55222232, 5.4951909 ,\n",
              "       5.96747541, 6.31726834, 5.99159635, 6.90622009, 6.20888563,\n",
              "       5.0947142 , 6.08258861, 6.61659363, 5.        , 5.935127  ,\n",
              "       5.56971636, 5.62842854, 5.71486694, 5.349389  , 5.96987979,\n",
              "       6.00106299, 5.2044807 , 5.59929307, 7.30804403, 6.43317901,\n",
              "       6.1556399 , 5.5925034 , 5.79291835, 6.0337327 , 5.85545533,\n",
              "       5.81378845, 7.03776648, 5.        , 5.93125888, 5.89938601,\n",
              "       6.01471075, 7.04398866, 6.03301546, 6.02677373, 6.64196816,\n",
              "       5.96228669, 6.21752782, 6.48712383, 5.        , 5.54768436,\n",
              "       6.43290044, 5.        , 6.54949451, 6.2910408 , 5.49979576,\n",
              "       6.31323477, 6.32273657, 5.06963146, 5.        , 5.92370511,\n",
              "       5.31940417, 5.22071989, 5.08517754, 7.06400728, 5.50944154,\n",
              "       5.        , 5.        , 6.38563333, 5.84983066, 6.40291147,\n",
              "       5.        , 5.12811944, 6.17507594, 5.        , 5.        ,\n",
              "       6.04106288, 5.52816231, 5.04400965, 5.        , 6.01749382,\n",
              "       5.71631931, 6.61040158, 5.17563346, 5.74330972, 6.58438812,\n",
              "       5.67854009, 6.4326058 , 5.61265184, 6.64838331, 6.39210779,\n",
              "       5.86730088, 6.26077957, 7.01589843, 5.54226449, 6.21823176,\n",
              "       5.48179014, 7.25289265, 5.27613799, 5.        , 6.44889405,\n",
              "       5.        , 7.20020161, 5.50252557, 6.5901361 , 6.67110814,\n",
              "       6.42906356, 5.85137991, 5.        , 5.78821897, 5.56186445,\n",
              "       5.        , 5.95639712, 5.        , 7.49334876, 5.0181149 ,\n",
              "       5.8739376 , 5.59661807, 5.75034144, 6.1846013 , 5.36619657,\n",
              "       5.        , 5.96351815, 5.        , 6.32939431, 5.57748783,\n",
              "       6.90773834, 5.        , 5.67441945, 5.6122775 , 5.97747626,\n",
              "       5.79020353, 5.        , 7.1649619 , 5.51129005, 5.93277276,\n",
              "       5.09716161, 6.94018569, 6.32603079, 6.96493483, 6.31562796,\n",
              "       5.23690552, 5.70574634, 6.13285219, 6.7472696 , 6.08605779,\n",
              "       5.30295477, 5.11340782, 5.46093309, 5.6526155 , 5.27174105,\n",
              "       6.40072192, 5.29192456, 5.70047619, 5.9008045 , 6.62273311,\n",
              "       6.23794131, 5.36763602, 6.56491765, 5.711821  , 6.97069961,\n",
              "       5.52827607, 5.57079331, 6.40284621, 5.        , 5.        ,\n",
              "       5.12007135, 6.34817852, 5.38604968, 6.45819613, 5.        ,\n",
              "       5.24478716, 6.27706104, 5.51510708, 6.20205757, 6.93994654,\n",
              "       6.08609025, 6.67938013, 6.44817949, 7.16301757, 5.35389591,\n",
              "       5.16395067, 5.9786776 , 6.22610437, 6.16286197, 5.        ,\n",
              "       5.8256833 , 5.6747739 , 6.82275738, 5.67868217, 5.        ,\n",
              "       6.84545396, 6.41988694, 5.        , 5.90160343, 6.05372356,\n",
              "       5.4907356 , 6.44386509, 5.43719327, 5.66288498, 6.88407968,\n",
              "       6.27393957, 5.16478312, 6.33043509, 6.36284508, 5.16309746,\n",
              "       5.84785162, 5.19223708, 5.87716243, 5.41489615, 5.19788084,\n",
              "       6.46222378, 5.49656092, 5.57160167, 6.7210911 , 6.20410969,\n",
              "       5.        , 5.        , 6.05391407, 6.18303466, 6.11006915,\n",
              "       6.67928262, 6.73690379, 6.37586025, 5.7470122 , 6.2350947 ,\n",
              "       5.7109751 , 6.49373479, 5.89678903, 6.31239615, 5.33262497,\n",
              "       5.59698683, 6.15991668, 5.        , 5.27020507, 5.42667019,\n",
              "       6.11767716, 5.03332149, 6.02257242, 5.        , 5.48722631,\n",
              "       6.68488481, 5.        , 5.46857949, 6.20296294, 6.78390216,\n",
              "       7.16322839, 6.09678159, 6.558781  , 6.79056076, 5.        ,\n",
              "       6.99915473, 6.04912797, 6.13305938, 6.43713389, 5.49978738,\n",
              "       5.55483311, 6.74736264, 5.78426361, 5.92509108, 5.        ,\n",
              "       5.        , 6.59590479, 5.97332366, 5.0175643 , 5.        ,\n",
              "       5.77200582, 5.        , 5.        , 6.86750831, 5.01205254,\n",
              "       5.63670839, 6.95413265, 5.59121963, 6.72622297, 7.07937005,\n",
              "       5.68883129, 5.40646675, 6.12625753, 5.74020108, 6.21547899,\n",
              "       5.76374125, 5.00757791, 6.13843339, 6.39164323, 5.89624154,\n",
              "       6.58297314, 6.7156597 , 6.4031552 , 6.69040954, 6.68023602,\n",
              "       5.57947035, 5.57050267, 5.        , 5.38294306, 5.91860538,\n",
              "       6.197006  , 6.54110687, 5.62260972, 5.16996711, 6.34967541,\n",
              "       5.20714974, 7.07786715, 6.22331428, 6.04214861, 5.2223824 ,\n",
              "       5.96834006, 6.15709293, 5.63703629, 5.79388696, 6.22935669,\n",
              "       5.02633476, 5.        , 5.33590273, 6.45157321, 5.28183764,\n",
              "       5.56163269, 7.18100271, 5.68141974, 6.47297104, 7.29811545,\n",
              "       5.65352729, 5.67689258, 5.        , 6.1081482 , 6.37338194,\n",
              "       5.48255457, 6.38258956, 6.6694004 , 6.57240771, 5.95298327,\n",
              "       5.14743984, 6.52920424, 5.65418488, 6.99309099, 5.        ,\n",
              "       6.31430669, 5.47910992, 5.63905929, 5.91489052, 6.42679999,\n",
              "       5.54902538, 5.        , 6.44879606, 5.        , 6.30202613,\n",
              "       6.24907184, 5.37262569, 6.94365323, 5.96387082, 5.48697909,\n",
              "       7.1554951 , 6.54686833, 7.52975502, 5.68645208, 5.58236914,\n",
              "       5.46230361, 5.        , 6.11804327, 6.52285728, 5.        ,\n",
              "       6.40000743, 5.88507879, 6.0859415 , 6.19030169, 6.0836846 ,\n",
              "       6.00300606, 5.4437969 , 5.        , 5.        , 5.37293167,\n",
              "       5.09863871, 5.6090515 , 7.12713113, 6.05958654, 5.64292054,\n",
              "       5.74295316, 5.72085558, 5.        , 6.07301763, 5.86668351,\n",
              "       5.9536736 , 6.14639555, 5.        , 7.11974725, 6.05716704,\n",
              "       5.74033827, 5.        , 6.48630326, 5.80767254, 7.20824388,\n",
              "       6.32218152, 5.50579495, 5.83685536, 5.        , 5.        ,\n",
              "       5.72797455, 5.40629883, 5.        , 5.97915585, 5.        ,\n",
              "       7.24010158, 5.        , 6.11115684, 5.0382091 , 6.2135891 ,\n",
              "       6.41210091, 5.        , 5.98119918, 5.21804596, 5.33992624,\n",
              "       5.13820618, 5.        , 5.66698604, 6.73920054, 5.72275908,\n",
              "       5.        , 5.        , 6.29262895, 5.38936799, 6.31068626,\n",
              "       6.70491913, 6.26197497, 5.53851784, 5.31060073, 5.85171386,\n",
              "       5.60248734, 6.78724047, 5.        , 5.43989649, 5.96091557,\n",
              "       6.61034965, 5.        , 6.00098551, 5.3775108 , 6.04559026,\n",
              "       6.1156341 , 6.07187294, 5.96944812, 5.74084222, 5.        ,\n",
              "       5.62709491, 6.54380846, 5.96415899, 5.49317418, 6.15403615,\n",
              "       6.54455309, 6.02969129, 5.83197816, 5.87894005, 6.12788288,\n",
              "       6.39174113, 7.08876588, 5.6055941 , 5.69808174, 6.15436895,\n",
              "       6.42410772, 5.28463427, 5.37455516, 6.10530064, 5.54337989,\n",
              "       5.46683451, 6.62172244, 5.        , 5.58906168, 6.08556553,\n",
              "       6.05201943, 5.5523092 , 5.87252415, 6.77171795, 5.75369759,\n",
              "       5.32037965, 5.61745026, 6.89759491, 6.40780367, 5.56226588,\n",
              "       6.74817385, 7.04502193, 5.        , 5.        , 7.25920249,\n",
              "       5.66021642, 5.4773637 , 5.8469264 , 5.94997917, 6.36681916,\n",
              "       5.56927926, 5.85978135, 5.56247927, 5.507339  , 6.25465581,\n",
              "       6.50601985, 5.21605583, 6.18109038, 5.57222239, 5.75535333,\n",
              "       5.34916   , 5.34169303, 5.7047721 , 6.16310283, 6.091169  ,\n",
              "       5.59852964, 5.        , 5.72090892, 5.16833155, 6.58866198,\n",
              "       5.9620481 , 5.93063454, 5.80273223, 6.24356112, 6.1261961 ,\n",
              "       5.        , 6.28399313, 6.5844466 , 6.11322838, 6.42962402,\n",
              "       6.63413676, 6.47121077, 5.2660919 , 6.34112618, 6.4476602 ,\n",
              "       5.90409816, 5.87203533, 6.41067809, 7.03607857, 5.29833829,\n",
              "       5.7054845 , 5.40546844, 6.27336123, 5.        , 6.27584578,\n",
              "       5.70079737, 5.        , 5.45186067, 5.87236326, 5.55978144,\n",
              "       5.03900161, 5.96009586, 6.05178106, 6.01327059, 5.55138131,\n",
              "       6.16157161, 5.85581967, 6.69004471, 5.72141411, 5.03370896,\n",
              "       6.17257379, 5.        , 5.58190773, 5.90933071, 6.87516333,\n",
              "       6.44254523, 5.76181631, 6.11051992, 5.47278408, 5.817461  ,\n",
              "       5.54323815, 5.57486866, 5.        , 5.74456359, 6.94425633,\n",
              "       6.53740591, 5.44125208, 5.        , 6.15538721, 6.6044162 ,\n",
              "       7.06638488, 5.71343391, 5.11424938, 5.54506725, 6.39074611,\n",
              "       6.5452775 , 5.        , 5.37998861, 5.11563446, 6.79705121,\n",
              "       5.        , 6.17636621, 6.23936509, 6.63032395, 5.60591032,\n",
              "       5.46277175, 6.43067515, 6.49191685, 5.04546753, 6.31580467,\n",
              "       5.21988342, 6.18071305, 5.        , 5.        , 6.29110099,\n",
              "       5.        , 6.37719329, 5.08324391, 5.04576353, 5.77952527,\n",
              "       6.39574362, 5.63257267, 5.        , 5.12792283, 5.99160099,\n",
              "       5.79156399, 5.4568442 , 5.        , 6.43326971, 6.13912886,\n",
              "       5.        , 6.66346546, 5.16160592, 5.45473426, 5.        ,\n",
              "       6.16522713, 5.        , 6.0538225 , 6.28708153, 7.16004277,\n",
              "       5.        , 6.35177246, 5.        , 6.02480129, 5.        ,\n",
              "       5.46493156, 6.08519447, 5.        , 5.60797639, 6.99744305,\n",
              "       6.09201117, 6.32295898, 6.43281503, 5.89803234, 5.        ,\n",
              "       5.46657001, 6.05862171, 5.93001296, 6.75899828, 6.76368032,\n",
              "       6.0180467 , 5.23722383, 7.06087285, 5.82424858, 5.69983466,\n",
              "       5.        , 5.10085256, 6.67072826, 5.54890253, 5.92848679,\n",
              "       5.        , 5.75987984, 5.90367858, 5.2346855 , 5.82639775,\n",
              "       6.71752776, 7.01854763, 6.09297135, 6.20836553, 6.1816765 ,\n",
              "       7.41653068, 5.40048957, 5.        , 5.44390757, 5.0378979 ,\n",
              "       6.50623436, 6.20851418, 6.07334913, 6.58956153, 6.35662933,\n",
              "       5.        , 6.81741606, 6.23328072, 5.96181892, 5.        ,\n",
              "       5.81669024, 6.90097263, 5.        , 5.41311232, 6.55630322,\n",
              "       5.68650473, 5.3509759 , 6.19591015, 7.07354005, 5.69266501,\n",
              "       5.25589489, 5.28414814, 6.83539853, 6.98539266, 7.31975431,\n",
              "       5.19863277, 6.20958873, 5.47620231, 6.77943693, 5.73454644,\n",
              "       5.46765089, 5.70042433, 5.68302855, 5.        , 6.72962801,\n",
              "       5.26624993, 5.76280932, 6.63731005, 5.        , 5.88978385,\n",
              "       5.58849521, 6.71890402, 5.7861547 , 5.90454688, 5.17837653,\n",
              "       6.75348331, 5.86232207, 5.        , 7.29554805, 5.61846585,\n",
              "       6.23442192, 5.13678594, 5.49214704, 5.45498801, 5.22299887,\n",
              "       6.32581301, 5.45446999, 6.25748166, 7.53867714, 5.62962129,\n",
              "       7.02326557, 5.17032767, 6.43486593, 6.74192976, 7.15203986,\n",
              "       6.00142829, 6.35229154, 7.04497125, 5.        , 6.5891514 ,\n",
              "       5.        , 6.43129844, 5.        , 6.58987132, 6.32949701,\n",
              "       6.39626554, 6.69622031, 5.7559784 , 5.05806422, 6.2547885 ,\n",
              "       7.16062834, 5.        , 5.        , 6.72907665, 6.4450097 ,\n",
              "       5.51097202, 5.        , 6.35082435, 5.12095174, 5.90014206,\n",
              "       7.14678443, 6.25863571, 7.08877678, 5.01981299, 6.05889666,\n",
              "       6.05495251, 5.66750514, 5.26102051, 5.43613103, 5.04154093,\n",
              "       5.        , 5.        , 5.29565397, 5.77090199, 5.        ,\n",
              "       6.62476302, 6.05070936, 5.        , 6.37378988, 6.1397927 ,\n",
              "       5.52069144, 5.01117265, 5.50340266, 5.68665496, 6.70198538,\n",
              "       5.08386702, 6.71014194, 5.15037281, 5.8565153 , 7.23318319,\n",
              "       5.04685856, 5.72792454, 6.12924711, 6.36552313, 5.        ,\n",
              "       6.09768179, 6.25232671, 6.45665971, 6.58602635, 6.49935665,\n",
              "       6.06445908, 6.08775408, 5.42164768, 5.23171378, 5.        ,\n",
              "       5.90118118, 5.57471811, 5.        , 5.79299268, 5.        ,\n",
              "       6.23682555, 5.11900373, 5.42817126, 5.73138863, 5.35828791,\n",
              "       5.01536821, 7.4698052 , 6.98076818, 6.00810406, 5.19199483,\n",
              "       5.2873909 , 7.33772114, 5.75962705, 6.83266256, 5.01287355,\n",
              "       5.53892384, 6.26128365, 6.51825934, 6.45541607, 5.        ,\n",
              "       5.73290941, 5.32292729, 6.4456292 , 5.17211606, 6.90688093,\n",
              "       5.3491194 , 5.49340872, 6.09967531, 6.96783079, 5.71832349,\n",
              "       5.66566692, 5.75141624, 5.43530511, 6.14425899, 5.23281446,\n",
              "       5.87130874, 5.        , 6.48111132, 5.9717017 , 5.        ,\n",
              "       6.06324654, 5.        , 6.08858249, 6.1126617 , 7.30205024,\n",
              "       5.        , 6.20649468, 5.83691717, 5.85235902, 6.3608287 ,\n",
              "       6.36048272, 6.36326094, 5.1093093 , 5.        , 6.68091187,\n",
              "       6.25944944, 6.03589907, 6.26536225, 5.33079421, 5.07305491,\n",
              "       5.18145859, 5.76674436, 6.95234882, 5.64110308, 5.        ,\n",
              "       5.48386636, 5.76829653, 6.53464654, 6.56870889, 6.2295372 ,\n",
              "       5.61707324, 5.32270841, 6.02159433, 6.31031814, 7.21775446,\n",
              "       6.82012584, 5.        , 5.46145344, 5.64844728, 5.6039676 ])"
            ]
          },
          "metadata": {},
          "execution_count": 190
        }
      ]
    },
    {
      "cell_type": "code",
      "source": [
        "tobit.score(y_test, tobit.predict(X_test))"
      ],
      "metadata": {
        "colab": {
          "base_uri": "https://localhost:8080/"
        },
        "id": "EDMCFvEpOOrH",
        "outputId": "a7c0e17b-c245-4ae7-cab5-031127bfef54"
      },
      "execution_count": 191,
      "outputs": [
        {
          "output_type": "execute_result",
          "data": {
            "text/plain": [
              "2.8300133758913897"
            ]
          },
          "metadata": {},
          "execution_count": 191
        }
      ]
    },
    {
      "cell_type": "code",
      "source": [
        "lin_reg = LinearRegression()\n",
        "lin_reg.fit(X,y)\n",
        "np.append(lin_reg.intercept_, lin_reg.coef_) "
      ],
      "metadata": {
        "colab": {
          "base_uri": "https://localhost:8080/"
        },
        "id": "VuQ0Baao63IP",
        "outputId": "37b89d18-6e53-4789-9322-ac5780629929"
      },
      "execution_count": 192,
      "outputs": [
        {
          "output_type": "execute_result",
          "data": {
            "text/plain": [
              "array([ 5.99589466e+00, -1.30926343e-02,  7.28146301e-04,  1.81919666e+00,\n",
              "       -1.46216273e-03])"
            ]
          },
          "metadata": {},
          "execution_count": 192
        }
      ]
    },
    {
      "cell_type": "code",
      "source": [
        "np.append(lin_reg.intercept_, lin_reg.coef_) == tobit.beta_"
      ],
      "metadata": {
        "colab": {
          "base_uri": "https://localhost:8080/"
        },
        "id": "iwIKmekpOlCQ",
        "outputId": "dcb04a82-ec8f-4d1c-ffd2-0543aba74c87"
      },
      "execution_count": 193,
      "outputs": [
        {
          "output_type": "execute_result",
          "data": {
            "text/plain": [
              "array([False, False, False, False, False])"
            ]
          },
          "metadata": {},
          "execution_count": 193
        }
      ]
    },
    {
      "cell_type": "code",
      "source": [
        "np.sum((y_test - lin_reg.predict(X_test))**2)/len(y_test)"
      ],
      "metadata": {
        "colab": {
          "base_uri": "https://localhost:8080/"
        },
        "id": "_6VB8YRn44TU",
        "outputId": "bf9dfccf-8e99-4237-8197-3926ad2c89ff"
      },
      "execution_count": 194,
      "outputs": [
        {
          "output_type": "execute_result",
          "data": {
            "text/plain": [
              "1.2028966386995195"
            ]
          },
          "metadata": {},
          "execution_count": 194
        }
      ]
    },
    {
      "cell_type": "markdown",
      "source": [
        "# Grabit Model"
      ],
      "metadata": {
        "id": "jR2ggmko29Vm"
      }
    },
    {
      "cell_type": "code",
      "source": [
        ""
      ],
      "metadata": {
        "id": "Roj88J3Z3CVj"
      },
      "execution_count": null,
      "outputs": []
    },
    {
      "cell_type": "markdown",
      "source": [
        "# Gradient Boosting Model"
      ],
      "metadata": {
        "id": "sWZvyNxs-5cR"
      }
    },
    {
      "cell_type": "code",
      "source": [
        ""
      ],
      "metadata": {
        "id": "PjEk8eIj9_Td"
      },
      "execution_count": null,
      "outputs": []
    }
  ]
}